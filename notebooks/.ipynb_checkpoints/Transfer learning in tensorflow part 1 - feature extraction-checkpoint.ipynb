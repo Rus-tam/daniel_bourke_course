{
 "cells": [
  {
   "cell_type": "markdown",
   "id": "ee29c16a-20fe-4c39-bf70-ef0fa60df4f7",
   "metadata": {},
   "source": [
    "# Transfer Learning with TensorFlow Part 1: Feature Extraction\n",
    "\n",
    "Transfer learning is leveraging a working model's existing architecture and learned patterns for our own problems.\n",
    "\n",
    "There are two main benefits:\n",
    "\n",
    "1. Can leverage an existing neural network architecture proven to work on problems similar to our own.\n",
    "2. Can leverage a working neural network architecture which has already learned patterns on similar data to our own, then we can adapt those patterns to our own data."
   ]
  },
  {
   "cell_type": "markdown",
   "id": "b10682ed-9f30-4c35-9b66-e22f291c8d8b",
   "metadata": {},
   "source": [
    "## Downloading and becoming one with the data"
   ]
  },
  {
   "cell_type": "code",
   "execution_count": 1,
   "id": "e2887383-d74f-458b-8139-85cc3f1de30c",
   "metadata": {},
   "outputs": [],
   "source": [
    "# Get data (10% of 10 food classes from Food10)\n",
    "import requests\n",
    "import zipfile\n",
    "import io\n",
    "# Download the zip file using requests\n",
    "\n",
    "url = \"https://storage.googleapis.com/ztm_tf_course/food_vision/10_food_classes_10_percent.zip\"\n",
    "response = requests.get(url)\n",
    "# Unzip the file in memory and extract it\n",
    "\n",
    "with zipfile.ZipFile(io.BytesIO(response.content)) as zip_ref:\n",
    "    zip_ref.extractall(\"pizza_steak\")  # Extract to a folder called 'pizza_steak'"
   ]
  },
  {
   "cell_type": "code",
   "execution_count": 1,
   "id": "e995ceb4-435f-4263-9a58-b4abd0fc1d2a",
   "metadata": {},
   "outputs": [
    {
     "name": "stdout",
     "output_type": "stream",
     "text": [
      "there are 2 directories and 0 images in '../data/10_food_classes_10_percent/'\n",
      "there are 10 directories and 0 images in '../data/10_food_classes_10_percent/test'\n",
      "there are 0 directories and 250 images in '../data/10_food_classes_10_percent/test\\chicken_curry'\n",
      "there are 0 directories and 250 images in '../data/10_food_classes_10_percent/test\\chicken_wings'\n",
      "there are 0 directories and 250 images in '../data/10_food_classes_10_percent/test\\fried_rice'\n",
      "there are 0 directories and 250 images in '../data/10_food_classes_10_percent/test\\grilled_salmon'\n",
      "there are 0 directories and 250 images in '../data/10_food_classes_10_percent/test\\hamburger'\n",
      "there are 0 directories and 250 images in '../data/10_food_classes_10_percent/test\\ice_cream'\n",
      "there are 0 directories and 250 images in '../data/10_food_classes_10_percent/test\\pizza'\n",
      "there are 0 directories and 250 images in '../data/10_food_classes_10_percent/test\\ramen'\n",
      "there are 0 directories and 250 images in '../data/10_food_classes_10_percent/test\\steak'\n",
      "there are 0 directories and 250 images in '../data/10_food_classes_10_percent/test\\sushi'\n",
      "there are 10 directories and 0 images in '../data/10_food_classes_10_percent/train'\n",
      "there are 0 directories and 75 images in '../data/10_food_classes_10_percent/train\\chicken_curry'\n",
      "there are 0 directories and 75 images in '../data/10_food_classes_10_percent/train\\chicken_wings'\n",
      "there are 0 directories and 75 images in '../data/10_food_classes_10_percent/train\\fried_rice'\n",
      "there are 0 directories and 75 images in '../data/10_food_classes_10_percent/train\\grilled_salmon'\n",
      "there are 0 directories and 75 images in '../data/10_food_classes_10_percent/train\\hamburger'\n",
      "there are 0 directories and 75 images in '../data/10_food_classes_10_percent/train\\ice_cream'\n",
      "there are 0 directories and 75 images in '../data/10_food_classes_10_percent/train\\pizza'\n",
      "there are 0 directories and 75 images in '../data/10_food_classes_10_percent/train\\ramen'\n",
      "there are 0 directories and 75 images in '../data/10_food_classes_10_percent/train\\steak'\n",
      "there are 0 directories and 75 images in '../data/10_food_classes_10_percent/train\\sushi'\n"
     ]
    }
   ],
   "source": [
    "# How many images in each folder?\n",
    "import os\n",
    "\n",
    "# Walk through 10 percent data directory and list number of files\n",
    "for dirpath, dirnames, filenames in os.walk('../data/10_food_classes_10_percent/'):\n",
    "    print(f\"there are {len(dirnames)} directories and {len(filenames)} images in '{dirpath}'\")"
   ]
  },
  {
   "cell_type": "markdown",
   "id": "8c4ccd0b-4cf1-4404-ba31-1003fd89017a",
   "metadata": {},
   "source": [
    "## Creating data loader (preparing the data)\n"
   ]
  },
  {
   "cell_type": "code",
   "execution_count": 2,
   "id": "920af032-38c0-4822-b4d0-2b55ed2c1fb9",
   "metadata": {},
   "outputs": [
    {
     "name": "stdout",
     "output_type": "stream",
     "text": [
      "WARNING:tensorflow:From C:\\Users\\79279\\Documents\\IT\\data_sciense\\daniel_bourke_course\\datascience\\Lib\\site-packages\\keras\\src\\losses.py:2976: The name tf.losses.sparse_softmax_cross_entropy is deprecated. Please use tf.compat.v1.losses.sparse_softmax_cross_entropy instead.\n",
      "\n",
      "Found 750 files belonging to 10 classes.\n",
      "Found 2500 files belonging to 10 classes.\n",
      "WARNING:tensorflow:From C:\\Users\\79279\\Documents\\IT\\data_sciense\\daniel_bourke_course\\datascience\\Lib\\site-packages\\keras\\src\\backend.py:873: The name tf.get_default_graph is deprecated. Please use tf.compat.v1.get_default_graph instead.\n",
      "\n"
     ]
    }
   ],
   "source": [
    "from tensorflow.keras.preprocessing import image_dataset_from_directory\n",
    "from tensorflow.keras import layers\n",
    "\n",
    "IMAGE_SHAPE = (224, 224)\n",
    "BATCH_SIZE = 32\n",
    "train_dir = \"../data/10_food_classes_10_percent/train/\"\n",
    "test_dir = \"../data/10_food_classes_10_percent/test/\"\n",
    "\n",
    "train_data = image_dataset_from_directory(directory=train_dir,\n",
    "                                          label_mode=\"categorical\",\n",
    "                                          batch_size=BATCH_SIZE,\n",
    "                                          image_size=IMAGE_SHAPE,\n",
    "                                          seed=42)\n",
    "\n",
    "test_data = image_dataset_from_directory(directory=test_dir,\n",
    "                                         label_mode=\"categorical\",\n",
    "                                         batch_size=BATCH_SIZE,\n",
    "                                         image_size=IMAGE_SHAPE,\n",
    "                                         seed=42)\n",
    "\n",
    "# Нормализация входных данных\n",
    "normalization_layer = layers.Rescaling(1./255)\n",
    "\n",
    "# Применяем нормализацию к данным\n",
    "train_data = train_data.map(lambda x, y: (normalization_layer(x), y))\n",
    "test_data = test_data.map(lambda x, y: (normalization_layer(x), y))"
   ]
  },
  {
   "cell_type": "markdown",
   "id": "a4b67055-1012-43e8-9e52-039c4a75c28d",
   "metadata": {},
   "source": [
    "## Setting up callbacks (things to run while our model trains)\n",
    "\n",
    "Callbacks are extra functionality you can add to your models to be performed during or after training. Some of the most popular callbacks:\n",
    "\n",
    "* Tracking experiments with the TensorBoard callback\n",
    "* Model checkpoin with the ModelCheckpoint callback\n",
    "* Stopping a model from training (before it trains too long and overfits) with the EarlyStopping callback"
   ]
  },
  {
   "cell_type": "code",
   "execution_count": 3,
   "id": "df9c72fa-783b-4df9-96d9-78388cf0a6a1",
   "metadata": {},
   "outputs": [],
   "source": [
    "# Create TensorBoard callback (functionized because we need to create a new one for each model)\n",
    "import datetime\n",
    "\n",
    "def create_tensorboard_callback(dir_name, experiment_name):\n",
    "    log_dir = dir_name + \"/\" + experiment_name + \"/\" + datetime.datetime.now().strftime(\"%Y%m%d-%H%M%S\")\n",
    "\n",
    "    tensorboard_callback = tf.keras.callbacks.TensorBoard(log_dir=log_dir)\n",
    "    print(f\"Saving TensorBoard log files to: {log_dir}\")\n",
    "\n",
    "    return tensorboard_callback"
   ]
  },
  {
   "cell_type": "markdown",
   "id": "a5cd3516-2bfa-4c53-9f22-66fbcf86b6b5",
   "metadata": {},
   "source": [
    "## Creating models using TensorFlow Hub\n",
    "\n",
    "In the past we've use TensorFlow to create our own models layers by layer from scratch.\n",
    "\n",
    "Now we're going to do a similar process, except the majority of our model's layers are going to come fro TensorFlow Hub.\n",
    "\n",
    "We can access pretrained models on: https://tfhub.dev/\n",
    "\n",
    "Browsing the TensorFlow Hub page and sorting for image classification, we found the following feature vector model link:\n",
    "https://www.kaggle.com/models/google/resnet-v2/tensorFlow2"
   ]
  },
  {
   "cell_type": "code",
   "execution_count": 4,
   "id": "982dd8b9-e56a-44bf-97be-7a010aaa2780",
   "metadata": {},
   "outputs": [],
   "source": [
    "# Let's compare the following two models\n",
    "resnet_url = \"https://www.kaggle.com/models/google/resnet-v2/TensorFlow2/50-feature-vector/2\"\n",
    "efficientnet_url = \"https://www.kaggle.com/models/tensorflow/efficientnet/TensorFlow2/b0-feature-vector/1\""
   ]
  },
  {
   "cell_type": "code",
   "execution_count": 5,
   "id": "201358fb-c5ad-492c-9f27-51af33219a9c",
   "metadata": {},
   "outputs": [],
   "source": [
    "import tensorflow as tf\n",
    "import tensorflow_hub as hub\n",
    "from tensorflow.keras import layers\n",
    "from tensorflow import keras"
   ]
  },
  {
   "cell_type": "code",
   "execution_count": 6,
   "id": "ebcaadb2-19ad-4dcc-b3bd-34f59f7cf810",
   "metadata": {},
   "outputs": [],
   "source": [
    "import tf_keras as tfk\n",
    "\n",
    "def create_model_from_a_url(url: str, num_classes=10):\n",
    "    \"\"\"\n",
    "    Takes a tensorflow hub URL and creates a tensorflow Sequential model with it.\n",
    "    Returns:\n",
    "        -> an uncompiled model\n",
    "    \"\"\"\n",
    "    feature_extractor_layer = hub.KerasLayer(\n",
    "        url,\n",
    "        trainable=False,\n",
    "        name=\"feature_extraction_layer\",\n",
    "        input_shape=IMAGE_SHAPE + (3,)\n",
    "    )\n",
    "    print(\" \")\n",
    "    print(feature_extractor_layer)\n",
    "    print(\" \")\n",
    "\n",
    "    model = keras.Sequential([\n",
    "        feature_extractor_layer,\n",
    "        keras.layers.Dense(num_classes, activation=\"softmax\", name=\"output_layer\")\n",
    "    ])\n",
    "\n",
    "    return model"
   ]
  },
  {
   "cell_type": "markdown",
   "id": "57cfa945-d796-4e38-9c7a-ec01ef455cab",
   "metadata": {},
   "source": [
    "### Creating and testing ResNet TensorFlow Hub Feature Extraction model"
   ]
  },
  {
   "cell_type": "code",
   "execution_count": 7,
   "id": "37a1751e-968f-4058-9b16-7ffe681c5541",
   "metadata": {},
   "outputs": [
    {
     "name": "stdout",
     "output_type": "stream",
     "text": [
      "WARNING:tensorflow:From C:\\Users\\79279\\Documents\\IT\\data_sciense\\daniel_bourke_course\\datascience\\Lib\\site-packages\\tensorflow_hub\\resolver.py:120: The name tf.gfile.MakeDirs is deprecated. Please use tf.io.gfile.makedirs instead.\n",
      "\n"
     ]
    },
    {
     "name": "stderr",
     "output_type": "stream",
     "text": [
      "WARNING:tensorflow:From C:\\Users\\79279\\Documents\\IT\\data_sciense\\daniel_bourke_course\\datascience\\Lib\\site-packages\\tensorflow_hub\\resolver.py:120: The name tf.gfile.MakeDirs is deprecated. Please use tf.io.gfile.makedirs instead.\n",
      "\n"
     ]
    },
    {
     "name": "stdout",
     "output_type": "stream",
     "text": [
      "WARNING:tensorflow:From C:\\Users\\79279\\Documents\\IT\\data_sciense\\daniel_bourke_course\\datascience\\Lib\\site-packages\\tensorflow_hub\\module_v2.py:126: The name tf.saved_model.load_v2 is deprecated. Please use tf.compat.v2.saved_model.load instead.\n",
      "\n"
     ]
    },
    {
     "name": "stderr",
     "output_type": "stream",
     "text": [
      "WARNING:tensorflow:From C:\\Users\\79279\\Documents\\IT\\data_sciense\\daniel_bourke_course\\datascience\\Lib\\site-packages\\tensorflow_hub\\module_v2.py:126: The name tf.saved_model.load_v2 is deprecated. Please use tf.compat.v2.saved_model.load instead.\n",
      "\n"
     ]
    },
    {
     "name": "stdout",
     "output_type": "stream",
     "text": [
      " \n",
      "<tensorflow_hub.keras_layer.KerasLayer object at 0x000001719C6ABB10>\n",
      " \n",
      "Model: \"sequential\"\n",
      "_________________________________________________________________\n",
      " Layer (type)                Output Shape              Param #   \n",
      "=================================================================\n",
      " feature_extraction_layer (  (None, 2048)              23564800  \n",
      " KerasLayer)                                                     \n",
      "                                                                 \n",
      " output_layer (Dense)        (None, 10)                20490     \n",
      "                                                                 \n",
      "=================================================================\n",
      "Total params: 23585290 (89.97 MB)\n",
      "Trainable params: 20490 (80.04 KB)\n",
      "Non-trainable params: 23564800 (89.89 MB)\n",
      "_________________________________________________________________\n"
     ]
    }
   ],
   "source": [
    "# Create Resnet model\n",
    "resnet_model = create_model_from_a_url(url=resnet_url, num_classes=10)\n",
    "resnet_model.build((None,) + IMAGE_SHAPE + (3,))\n",
    "resnet_model.summary()"
   ]
  },
  {
   "cell_type": "code",
   "execution_count": 8,
   "id": "8767b6ef-aa2e-4b8b-aa56-9279b05d09c5",
   "metadata": {},
   "outputs": [],
   "source": [
    "# Compile our resnet model\n",
    "resnet_model.compile(loss=tf.keras.losses.CategoricalCrossentropy(),\n",
    "                     optimizer=tf.keras.optimizers.Adam(),\n",
    "                     metrics=[\"accuracy\"])"
   ]
  },
  {
   "cell_type": "code",
   "execution_count": 9,
   "id": "1375d3b3-a6dd-4f8e-82ec-f79060b0f7a0",
   "metadata": {},
   "outputs": [
    {
     "name": "stdout",
     "output_type": "stream",
     "text": [
      "Saving TensorBoard log files to: tensorflow_hub/resnet50V2/20250325-233521\n",
      "Epoch 1/5\n",
      "WARNING:tensorflow:From C:\\Users\\79279\\Documents\\IT\\data_sciense\\daniel_bourke_course\\datascience\\Lib\\site-packages\\keras\\src\\utils\\tf_utils.py:492: The name tf.ragged.RaggedTensorValue is deprecated. Please use tf.compat.v1.ragged.RaggedTensorValue instead.\n",
      "\n"
     ]
    },
    {
     "name": "stderr",
     "output_type": "stream",
     "text": [
      "WARNING:tensorflow:From C:\\Users\\79279\\Documents\\IT\\data_sciense\\daniel_bourke_course\\datascience\\Lib\\site-packages\\keras\\src\\utils\\tf_utils.py:492: The name tf.ragged.RaggedTensorValue is deprecated. Please use tf.compat.v1.ragged.RaggedTensorValue instead.\n",
      "\n"
     ]
    },
    {
     "name": "stdout",
     "output_type": "stream",
     "text": [
      "WARNING:tensorflow:From C:\\Users\\79279\\Documents\\IT\\data_sciense\\daniel_bourke_course\\datascience\\Lib\\site-packages\\keras\\src\\engine\\base_layer_utils.py:384: The name tf.executing_eagerly_outside_functions is deprecated. Please use tf.compat.v1.executing_eagerly_outside_functions instead.\n",
      "\n"
     ]
    },
    {
     "name": "stderr",
     "output_type": "stream",
     "text": [
      "WARNING:tensorflow:From C:\\Users\\79279\\Documents\\IT\\data_sciense\\daniel_bourke_course\\datascience\\Lib\\site-packages\\keras\\src\\engine\\base_layer_utils.py:384: The name tf.executing_eagerly_outside_functions is deprecated. Please use tf.compat.v1.executing_eagerly_outside_functions instead.\n",
      "\n"
     ]
    },
    {
     "name": "stdout",
     "output_type": "stream",
     "text": [
      "24/24 [==============================] - 111s 5s/step - loss: 1.8528 - accuracy: 0.3813 - val_loss: 1.1779 - val_accuracy: 0.6176\n",
      "Epoch 2/5\n",
      "24/24 [==============================] - 117s 5s/step - loss: 0.8685 - accuracy: 0.7347 - val_loss: 0.8501 - val_accuracy: 0.7228\n",
      "Epoch 3/5\n",
      "24/24 [==============================] - 113s 5s/step - loss: 0.6129 - accuracy: 0.8187 - val_loss: 0.7648 - val_accuracy: 0.7568\n",
      "Epoch 4/5\n",
      "24/24 [==============================] - 113s 5s/step - loss: 0.4682 - accuracy: 0.8853 - val_loss: 0.6841 - val_accuracy: 0.7876\n",
      "Epoch 5/5\n",
      "24/24 [==============================] - 121s 5s/step - loss: 0.3591 - accuracy: 0.9080 - val_loss: 0.6621 - val_accuracy: 0.7812\n"
     ]
    }
   ],
   "source": [
    "# Let's fit our ResNet model to the data (10 percent of 10 classes)\n",
    "resnet_history = resnet_model.fit(train_data,\n",
    "                                  epochs=5,\n",
    "                                  validation_data=test_data,\n",
    "                                  callbacks=[create_tensorboard_callback(dir_name=\"tensorflow_hub\",\n",
    "                                                                         experiment_name=\"resnet50V2\")])"
   ]
  },
  {
   "cell_type": "code",
   "execution_count": 10,
   "id": "e1f62889-599b-4545-87cd-a80a9c10c001",
   "metadata": {},
   "outputs": [
    {
     "name": "stdout",
     "output_type": "stream",
     "text": [
      "79/79 [==============================] - 85s 1s/step - loss: 0.6621 - accuracy: 0.7812\n"
     ]
    },
    {
     "data": {
      "text/plain": [
       "[0.6620907783508301, 0.7811999917030334]"
      ]
     },
     "execution_count": 10,
     "metadata": {},
     "output_type": "execute_result"
    }
   ],
   "source": [
    "resnet_model.evaluate(test_data)"
   ]
  },
  {
   "cell_type": "code",
   "execution_count": 11,
   "id": "bb2e977a-aea3-4802-8ed7-63ebaa0f648f",
   "metadata": {},
   "outputs": [
    {
     "name": "stdout",
     "output_type": "stream",
     "text": [
      "Model: \"sequential\"\n",
      "_________________________________________________________________\n",
      " Layer (type)                Output Shape              Param #   \n",
      "=================================================================\n",
      " feature_extraction_layer (  (None, 2048)              23564800  \n",
      " KerasLayer)                                                     \n",
      "                                                                 \n",
      " output_layer (Dense)        (None, 10)                20490     \n",
      "                                                                 \n",
      "=================================================================\n",
      "Total params: 23585290 (89.97 MB)\n",
      "Trainable params: 20490 (80.04 KB)\n",
      "Non-trainable params: 23564800 (89.89 MB)\n",
      "_________________________________________________________________\n"
     ]
    }
   ],
   "source": [
    "resnet_model.summary()"
   ]
  },
  {
   "cell_type": "markdown",
   "id": "16d32d48-2e7c-4753-8e8f-f1f158b02f44",
   "metadata": {},
   "source": [
    "Wow!\n",
    "\n",
    "That. Is. Incredible. Our transfer learning feature extractor model out performed ALL of the previous models we build by hand... (substantially) and in a quicker training time AND with only 10% of the training examples"
   ]
  },
  {
   "cell_type": "code",
   "execution_count": 12,
   "id": "2af8c672-cc3a-4c29-8a64-65220b76b15b",
   "metadata": {},
   "outputs": [],
   "source": [
    "import matplotlib.pyplot as plt\n",
    "\n",
    "# Let's create a function to plot our loss curves....\n",
    "# Tidbit: you could put a function like this into a script called 'helper.py' and import it when you need it...\n",
    "\n",
    "# Plot the validation and training curves separately\n",
    "def plot_loss_curves(history):\n",
    "    \"\"\"\n",
    "    Returns separate loss curves for training ans validation metrics.\n",
    "\n",
    "    Args:\n",
    "      history: TensorFlow History object.\n",
    "\n",
    "    Returns:\n",
    "      Plots of training/validation loss and accuracy metrics.\n",
    "    \"\"\"\n",
    "\n",
    "    loss = history.history[\"loss\"]\n",
    "    val_loss = history.history[\"val_loss\"]\n",
    "\n",
    "    accuracy = history.history['accuracy']\n",
    "    val_accuracy = history.history['val_accuracy']\n",
    "\n",
    "    epochs = range(len(history.history[\"loss\"])) # how many epochs did we run for?\n",
    "\n",
    "    # Plot loss\n",
    "    plt.figure()\n",
    "    plt.plot(epochs, loss, label='training_loss')\n",
    "    plt.plot(epochs, val_loss, label=\"val_loss\")\n",
    "    plt.title('loss')\n",
    "    plt.xlabel('epochs')\n",
    "    plt.legend();\n",
    "\n",
    "    # Plot accuracy\n",
    "    plt.figure()\n",
    "    plt.plot(epochs, accuracy, label='training_accuracy')\n",
    "    plt.plot(epochs, val_accuracy, label=\"val_accuracy\")\n",
    "    plt.title('accuracy')\n",
    "    plt.xlabel('epochs')\n",
    "    plt.legend();"
   ]
  },
  {
   "cell_type": "code",
   "execution_count": 13,
   "id": "22110c52-9746-426f-bb2d-3046f1a333ea",
   "metadata": {},
   "outputs": [
    {
     "data": {
      "image/png": "[encoded data removed]",
      "text/plain": [
       "<Figure size 640x480 with 1 Axes>"
      ]
     },
     "metadata": {},
     "output_type": "display_data"
    },
    {
     "data": {
      "image/png": "[encoded data removed]",
      "text/plain": [
       "<Figure size 640x480 with 1 Axes>"
      ]
     },
     "metadata": {},
     "output_type": "display_data"
    }
   ],
   "source": [
    "plot_loss_curves(resnet_history)"
   ]
  },
  {
   "cell_type": "code",
   "execution_count": null,
   "id": "4d1b89e7-c896-453d-b106-ecd4e50c767c",
   "metadata": {},
   "outputs": [],
   "source": []
  }
 ],
 "metadata": {
  "kernelspec": {
   "display_name": "Python 3 (ipykernel)",
   "language": "python",
   "name": "python3"
  },
  "language_info": {
   "codemirror_mode": {
    "name": "ipython",
    "version": 3
   },
   "file_extension": ".py",
   "mimetype": "text/x-python",
   "name": "python",
   "nbconvert_exporter": "python",
   "pygments_lexer": "ipython3",
   "version": "3.11.0"
  }
 },
 "nbformat": 4,
 "nbformat_minor": 5
}
