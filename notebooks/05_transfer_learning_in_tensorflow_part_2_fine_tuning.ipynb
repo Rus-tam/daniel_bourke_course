{
 "cells": [
  {
   "cell_type": "markdown",
   "id": "914752af-96db-4692-922d-948a8a8707e4",
   "metadata": {},
   "source": [
    "# Transfer Learning with TensorFlow Part 2: Fine-Tuning\n",
    "\n",
    "In the previous notebook, we covered transfer learning feature extraction, now it's time to learn about a new kind of transfer learning: fine-tuning"
   ]
  },
  {
   "cell_type": "markdown",
   "id": "8d70bc38-64a0-4b11-8965-8f871ac221d2",
   "metadata": {},
   "source": [
    "## Creating helper functions\n",
    "\n",
    "In previous notebooks, we've created  bunch of helper functions, now we could rewrite them all, however, this is tedious.\n",
    "\n",
    "So, it's a good idea to put functions you'll want to use again in a script you can download and import into your notebooks (or elsewhere)."
   ]
  },
  {
   "cell_type": "code",
   "execution_count": 2,
   "id": "747fb468-c891-450d-ba3a-c69c71c2f3f6",
   "metadata": {},
   "outputs": [],
   "source": [
    "# Import helper functions we're going to use in this notebook\n",
    "\n",
    "from helper_functions import create_tensorboard_callback, plot_loss_curves, unzip_data, walk_through_dir"
   ]
  },
  {
   "cell_type": "markdown",
   "id": "1da14ae2-3d02-4bd0-a67f-9d8d61389444",
   "metadata": {},
   "source": [
    "## Let's get some data\n",
    "\n",
    "This is we're going to see how we can use the pretrained models within `tf.keras.applications` and apply them to our own problem (recognizing images of food).\n",
    "\n",
    "link: https://www.tensorflow.org/api_docs/python/tf/keras/applications"
   ]
  },
  {
   "cell_type": "code",
   "execution_count": 3,
   "id": "ea1b2fd9-2609-4283-bdd2-6c715f1f6dae",
   "metadata": {},
   "outputs": [
    {
     "name": "stdout",
     "output_type": "stream",
     "text": [
      "There are 2 directories and 0 images in '../data/10_food_classes_10_percent/'.\n",
      "There are 10 directories and 0 images in '../data/10_food_classes_10_percent/test'.\n",
      "There are 0 directories and 250 images in '../data/10_food_classes_10_percent/test\\chicken_curry'.\n",
      "There are 0 directories and 250 images in '../data/10_food_classes_10_percent/test\\chicken_wings'.\n",
      "There are 0 directories and 250 images in '../data/10_food_classes_10_percent/test\\fried_rice'.\n",
      "There are 0 directories and 250 images in '../data/10_food_classes_10_percent/test\\grilled_salmon'.\n",
      "There are 0 directories and 250 images in '../data/10_food_classes_10_percent/test\\hamburger'.\n",
      "There are 0 directories and 250 images in '../data/10_food_classes_10_percent/test\\ice_cream'.\n",
      "There are 0 directories and 250 images in '../data/10_food_classes_10_percent/test\\pizza'.\n",
      "There are 0 directories and 250 images in '../data/10_food_classes_10_percent/test\\ramen'.\n",
      "There are 0 directories and 250 images in '../data/10_food_classes_10_percent/test\\steak'.\n",
      "There are 0 directories and 250 images in '../data/10_food_classes_10_percent/test\\sushi'.\n",
      "There are 10 directories and 0 images in '../data/10_food_classes_10_percent/train'.\n",
      "There are 0 directories and 75 images in '../data/10_food_classes_10_percent/train\\chicken_curry'.\n",
      "There are 0 directories and 75 images in '../data/10_food_classes_10_percent/train\\chicken_wings'.\n",
      "There are 0 directories and 75 images in '../data/10_food_classes_10_percent/train\\fried_rice'.\n",
      "There are 0 directories and 75 images in '../data/10_food_classes_10_percent/train\\grilled_salmon'.\n",
      "There are 0 directories and 75 images in '../data/10_food_classes_10_percent/train\\hamburger'.\n",
      "There are 0 directories and 75 images in '../data/10_food_classes_10_percent/train\\ice_cream'.\n",
      "There are 0 directories and 75 images in '../data/10_food_classes_10_percent/train\\pizza'.\n",
      "There are 0 directories and 75 images in '../data/10_food_classes_10_percent/train\\ramen'.\n",
      "There are 0 directories and 75 images in '../data/10_food_classes_10_percent/train\\steak'.\n",
      "There are 0 directories and 75 images in '../data/10_food_classes_10_percent/train\\sushi'.\n"
     ]
    }
   ],
   "source": [
    "# Check out how many images and subdirectories are in our dataset\n",
    "walk_through_dir(\"../data/10_food_classes_10_percent/\")"
   ]
  },
  {
   "cell_type": "code",
   "execution_count": 4,
   "id": "1672494f-caa5-4a45-8dda-2dd8c56bc2cf",
   "metadata": {},
   "outputs": [
    {
     "name": "stdout",
     "output_type": "stream",
     "text": [
      "Found 750 files belonging to 10 classes.\n",
      "Found 2500 files belonging to 10 classes.\n",
      "WARNING:tensorflow:From C:\\Users\\79279\\Documents\\IT\\data_sciense\\daniel_bourke_course\\datascience\\Lib\\site-packages\\keras\\src\\backend.py:873: The name tf.get_default_graph is deprecated. Please use tf.compat.v1.get_default_graph instead.\n",
      "\n"
     ]
    }
   ],
   "source": [
    "from tensorflow.keras.preprocessing import image_dataset_from_directory\n",
    "from tensorflow.keras import layers\n",
    "\n",
    "IMAGE_SHAPE = (224, 224)\n",
    "BATCH_SIZE = 32\n",
    "train_dir = \"../data/10_food_classes_10_percent/train/\"\n",
    "test_dir = \"../data/10_food_classes_10_percent/test/\"\n",
    "\n",
    "train_data = image_dataset_from_directory(directory=train_dir,\n",
    "                                          label_mode=\"categorical\",\n",
    "                                          batch_size=BATCH_SIZE,\n",
    "                                          image_size=IMAGE_SHAPE,\n",
    "                                          seed=42)\n",
    "\n",
    "test_data = image_dataset_from_directory(directory=test_dir,\n",
    "                                         label_mode=\"categorical\",\n",
    "                                         batch_size=BATCH_SIZE,\n",
    "                                         image_size=IMAGE_SHAPE,\n",
    "                                         seed=42)\n",
    "\n",
    "# Нормализация входных данных\n",
    "normalization_layer = layers.Rescaling(1./255)\n",
    "\n",
    "# Применяем нормализацию к данным\n",
    "train_data = train_data.map(lambda x, y: (normalization_layer(x), y))\n",
    "test_data = test_data.map(lambda x, y: (normalization_layer(x), y))"
   ]
  },
  {
   "cell_type": "code",
   "execution_count": null,
   "id": "59073c88-02cc-410a-949e-e298d9286ae8",
   "metadata": {},
   "outputs": [],
   "source": []
  }
 ],
 "metadata": {
  "kernelspec": {
   "display_name": "Python 3 (ipykernel)",
   "language": "python",
   "name": "python3"
  },
  "language_info": {
   "codemirror_mode": {
    "name": "ipython",
    "version": 3
   },
   "file_extension": ".py",
   "mimetype": "text/x-python",
   "name": "python",
   "nbconvert_exporter": "python",
   "pygments_lexer": "ipython3",
   "version": "3.11.0"
  }
 },
 "nbformat": 4,
 "nbformat_minor": 5
}
